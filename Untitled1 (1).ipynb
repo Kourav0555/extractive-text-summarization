{
  "nbformat": 4,
  "nbformat_minor": 0,
  "metadata": {
    "colab": {
      "provenance": []
    },
    "kernelspec": {
      "name": "python3",
      "display_name": "Python 3"
    },
    "language_info": {
      "name": "python"
    }
  },
  "cells": [
    {
      "cell_type": "code",
      "source": [
        "# --------------------------------------------------------------\n",
        "#   PROGRAM: Extractive Text Summarization using Sigmoid Neuron\n",
        "# --------------------------------------------------------------\n",
        "\n",
        "import numpy as np\n",
        "from sklearn.feature_extraction.text import TfidfVectorizer\n",
        "\n",
        "# -------------------------\n",
        "# Sigmoid activation function\n",
        "# Maps input values into range (0,1)\n",
        "# -------------------------\n",
        "def sigmoid(x):\n",
        "    return 1 / (1 + np.exp(-x))\n",
        "\n",
        "# -------------------------\n",
        "# Input Text (to be summarized)\n",
        "# -------------------------\n",
        "sample_text = \"\"\"Artificial Intelligence is one of the most transformative technologies of the 21st century.\n",
        "It is used in self-driving cars, healthcare diagnostics, personalized recommendations, and even in space exploration.\n",
        "However, AI also brings ethical challenges such as job displacement, data privacy, and algorithmic bias.\n",
        "Companies are investing billions into AI research to stay ahead in global competition.\n",
        "Despite concerns, experts believe AI will create more opportunities than it destroys.\n",
        "In education, AI-powered tutors can personalize learning for students.\n",
        "Meanwhile, governments are working to regulate AI to ensure its safe and fair use across industries.\"\"\"\n",
        "\n",
        "# -------------------------\n",
        "# Step 1: Split text into individual sentences\n",
        "# -------------------------\n",
        "sentences = [s.strip() for s in sample_text.split(\".\") if len(s.strip()) > 0]\n",
        "\n",
        "# -------------------------\n",
        "# Step 2: TF-IDF feature extraction\n",
        "# Each sentence is represented as a vector based on word importance\n",
        "# -------------------------\n",
        "vectorizer = TfidfVectorizer()\n",
        "X = vectorizer.fit_transform(sentences)\n",
        "\n",
        "# Feature: Sum of TF-IDF values for each sentence\n",
        "features = X.sum(axis=1).A1\n",
        "\n",
        "# -------------------------\n",
        "# Step 3: Apply a Sigmoid Neuron\n",
        "# Scores = sigmoid(weight * features + bias)\n",
        "# -------------------------\n",
        "weights = np.random.rand()   # Random weight\n",
        "bias = np.random.rand()      # Random bias\n",
        "scores = sigmoid(features * weights + bias)\n",
        "\n",
        "# -------------------------\n",
        "# Step 4: Select top N sentences for summary\n",
        "# -------------------------\n",
        "top_n = 3   # number of sentences in summary\n",
        "top_indices = np.argsort(scores)[::-1][:top_n]   # indices of top sentences\n",
        "summary = [sentences[i] for i in sorted(top_indices)]  # maintain order\n",
        "\n",
        "# -------------------------\n",
        "# Final Output\n",
        "# -------------------------\n",
        "print(\"====\")\n",
        "print(\"Original Text:\")\n",
        "print(\"====\")\n",
        "print(sample_text)\n",
        "print(\"\\n====\")\n",
        "print(\"Summary:\")\n",
        "print(\"====\")\n",
        "print(\"\\n\".join(f\"- {sentence}\" for sentence in summary))"
      ],
      "metadata": {
        "colab": {
          "base_uri": "https://localhost:8080/",
          "height": 0
        },
        "id": "tHSLQ9GpJdaz",
        "outputId": "c777e480-9f7d-41ff-ef99-283e84260c92"
      },
      "execution_count": 5,
      "outputs": [
        {
          "output_type": "stream",
          "name": "stdout",
          "text": [
            "====\n",
            "Original Text:\n",
            "====\n",
            "Artificial Intelligence is one of the most transformative technologies of the 21st century.\n",
            "It is used in self-driving cars, healthcare diagnostics, personalized recommendations, and even in space exploration.\n",
            "However, AI also brings ethical challenges such as job displacement, data privacy, and algorithmic bias.\n",
            "Companies are investing billions into AI research to stay ahead in global competition.\n",
            "Despite concerns, experts believe AI will create more opportunities than it destroys.\n",
            "In education, AI-powered tutors can personalize learning for students.\n",
            "Meanwhile, governments are working to regulate AI to ensure its safe and fair use across industries.\n",
            "\n",
            "====\n",
            "Summary:\n",
            "====\n",
            "- It is used in self-driving cars, healthcare diagnostics, personalized recommendations, and even in space exploration\n",
            "- However, AI also brings ethical challenges such as job displacement, data privacy, and algorithmic bias\n",
            "- Meanwhile, governments are working to regulate AI to ensure its safe and fair use across industries\n"
          ]
        }
      ]
    }
  ]
}